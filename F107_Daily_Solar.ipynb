{
  "cells": [
    {
      "cell_type": "code",
      "execution_count": null,
      "metadata": {
        "colab": {
          "base_uri": "https://localhost:8080/"
        },
        "id": "_Yw2dAC6gYIx",
        "outputId": "b6164107-58cd-424a-d5db-f43e52b162cd"
      },
      "outputs": [
        {
          "name": "stdout",
          "output_type": "stream",
          "text": [
            "Mounted at /content/drive\n"
          ]
        }
      ],
      "source": [
        "from google.colab import drive\n",
        "drive.mount('/content/drive')"
      ]
    },
    {
      "cell_type": "code",
      "execution_count": null,
      "metadata": {
        "id": "y3W6VPy7hsV5"
      },
      "outputs": [],
      "source": [
        "import numpy as np\n",
        "import pandas as pd\n",
        "import matplotlib.pyplot as plt\n",
        "import seaborn as sns\n",
        "import os"
      ]
    },
    {
      "cell_type": "code",
      "execution_count": null,
      "metadata": {
        "colab": {
          "base_uri": "https://localhost:8080/"
        },
        "id": "Ih1FIMBYh1pN",
        "outputId": "c11b7d07-9d99-4291-b002-2a12f0796999"
      },
      "outputs": [
        {
          "name": "stdout",
          "output_type": "stream",
          "text": [
            "True\n"
          ]
        }
      ],
      "source": [
        "file_path = '/content/drive/MyDrive/Deekshitha/Datasets/daily_solar_data.csv'\n",
        "print(os.path.exists(file_path))"
      ]
    },
    {
      "cell_type": "code",
      "execution_count": null,
      "metadata": {
        "colab": {
          "base_uri": "https://localhost:8080/",
          "height": 345
        },
        "id": "gzcLnAEniEy5",
        "outputId": "ba94beb1-6ca6-4595-cd6b-96b4f0c77f1e"
      },
      "outputs": [
        {
          "data": {
            "application/vnd.google.colaboratory.intrinsic+json": {
              "summary": "{\n  \"name\": \"df\",\n  \"rows\": 10330,\n  \"fields\": [\n    {\n      \"column\": \"Date\",\n      \"properties\": {\n        \"dtype\": \"object\",\n        \"num_unique_values\": 9873,\n        \"samples\": [\n          \"2013-08-02\",\n          \"1997-04-17\",\n          \"2022-01-24\"\n        ],\n        \"semantic_type\": \"\",\n        \"description\": \"\"\n      }\n    },\n    {\n      \"column\": \"Radio Flux 10.7cm\",\n      \"properties\": {\n        \"dtype\": \"number\",\n        \"std\": 41,\n        \"min\": 64,\n        \"max\": 343,\n        \"num_unique_values\": 211,\n        \"samples\": [\n          95,\n          250,\n          218\n        ],\n        \"semantic_type\": \"\",\n        \"description\": \"\"\n      }\n    },\n    {\n      \"column\": \"Sunspot Number\",\n      \"properties\": {\n        \"dtype\": \"number\",\n        \"std\": 64,\n        \"min\": 0,\n        \"max\": 401,\n        \"num_unique_values\": 305,\n        \"samples\": [\n          213,\n          199,\n          127\n        ],\n        \"semantic_type\": \"\",\n        \"description\": \"\"\n      }\n    },\n    {\n      \"column\": \"Sunspot Area (10^6 Hemis.)\",\n      \"properties\": {\n        \"dtype\": \"number\",\n        \"std\": 549,\n        \"min\": 0,\n        \"max\": 5690,\n        \"num_unique_values\": 373,\n        \"samples\": [\n          665,\n          1370,\n          90\n        ],\n        \"semantic_type\": \"\",\n        \"description\": \"\"\n      }\n    },\n    {\n      \"column\": \"New Regions\",\n      \"properties\": {\n        \"dtype\": \"number\",\n        \"std\": 0,\n        \"min\": 0,\n        \"max\": 6,\n        \"num_unique_values\": 7,\n        \"samples\": [\n          0,\n          1,\n          5\n        ],\n        \"semantic_type\": \"\",\n        \"description\": \"\"\n      }\n    },\n    {\n      \"column\": \"Stanford Mean Solar Field (GOES15)\",\n      \"properties\": {\n        \"dtype\": \"category\",\n        \"num_unique_values\": 161,\n        \"samples\": [\n          \"81\",\n          \"116\",\n          \"-56\"\n        ],\n        \"semantic_type\": \"\",\n        \"description\": \"\"\n      }\n    },\n    {\n      \"column\": \"Stanford Background X-Ray Flux\",\n      \"properties\": {\n        \"dtype\": \"category\",\n        \"num_unique_values\": 241,\n        \"samples\": [\n          \"A1.6\",\n          \"A0.9\",\n          \"C4.6\"\n        ],\n        \"semantic_type\": \"\",\n        \"description\": \"\"\n      }\n    },\n    {\n      \"column\": \"Flares: C\",\n      \"properties\": {\n        \"dtype\": \"number\",\n        \"std\": 3,\n        \"min\": -1,\n        \"max\": 30,\n        \"num_unique_values\": 28,\n        \"samples\": [\n          13,\n          23,\n          15\n        ],\n        \"semantic_type\": \"\",\n        \"description\": \"\"\n      }\n    },\n    {\n      \"column\": \"Flares: M\",\n      \"properties\": {\n        \"dtype\": \"number\",\n        \"std\": 0,\n        \"min\": -1,\n        \"max\": 12,\n        \"num_unique_values\": 14,\n        \"samples\": [\n          8,\n          10,\n          0\n        ],\n        \"semantic_type\": \"\",\n        \"description\": \"\"\n      }\n    },\n    {\n      \"column\": \"Flares: X\",\n      \"properties\": {\n        \"dtype\": \"number\",\n        \"std\": 0,\n        \"min\": -1,\n        \"max\": 3,\n        \"num_unique_values\": 5,\n        \"samples\": [\n          1,\n          -1,\n          2\n        ],\n        \"semantic_type\": \"\",\n        \"description\": \"\"\n      }\n    },\n    {\n      \"column\": \"Flares: S\",\n      \"properties\": {\n        \"dtype\": \"number\",\n        \"std\": 5,\n        \"min\": -1,\n        \"max\": 55,\n        \"num_unique_values\": 48,\n        \"samples\": [\n          28,\n          35,\n          19\n        ],\n        \"semantic_type\": \"\",\n        \"description\": \"\"\n      }\n    },\n    {\n      \"column\": \"Flares: 1\",\n      \"properties\": {\n        \"dtype\": \"number\",\n        \"std\": 0,\n        \"min\": -1,\n        \"max\": 7,\n        \"num_unique_values\": 9,\n        \"samples\": [\n          7,\n          1,\n          4\n        ],\n        \"semantic_type\": \"\",\n        \"description\": \"\"\n      }\n    },\n    {\n      \"column\": \"Flares: 2\",\n      \"properties\": {\n        \"dtype\": \"number\",\n        \"std\": 0,\n        \"min\": -1,\n        \"max\": 4,\n        \"num_unique_values\": 6,\n        \"samples\": [\n          -1,\n          0,\n          4\n        ],\n        \"semantic_type\": \"\",\n        \"description\": \"\"\n      }\n    },\n    {\n      \"column\": \"Flares: 3\",\n      \"properties\": {\n        \"dtype\": \"number\",\n        \"std\": 0,\n        \"min\": -1,\n        \"max\": 2,\n        \"num_unique_values\": 4,\n        \"samples\": [\n          0,\n          2,\n          -1\n        ],\n        \"semantic_type\": \"\",\n        \"description\": \"\"\n      }\n    }\n  ]\n}",
              "type": "dataframe",
              "variable_name": "df"
            },
            "text/html": [
              "\n",
              "  <div id=\"df-24f75683-87c3-4cc6-af0c-1d5a7f324faf\" class=\"colab-df-container\">\n",
              "    <div>\n",
              "<style scoped>\n",
              "    .dataframe tbody tr th:only-of-type {\n",
              "        vertical-align: middle;\n",
              "    }\n",
              "\n",
              "    .dataframe tbody tr th {\n",
              "        vertical-align: top;\n",
              "    }\n",
              "\n",
              "    .dataframe thead th {\n",
              "        text-align: right;\n",
              "    }\n",
              "</style>\n",
              "<table border=\"1\" class=\"dataframe\">\n",
              "  <thead>\n",
              "    <tr style=\"text-align: right;\">\n",
              "      <th></th>\n",
              "      <th>Date</th>\n",
              "      <th>Radio Flux 10.7cm</th>\n",
              "      <th>Sunspot Number</th>\n",
              "      <th>Sunspot Area (10^6 Hemis.)</th>\n",
              "      <th>New Regions</th>\n",
              "      <th>Stanford Mean Solar Field (GOES15)</th>\n",
              "      <th>Stanford Background X-Ray Flux</th>\n",
              "      <th>Flares: C</th>\n",
              "      <th>Flares: M</th>\n",
              "      <th>Flares: X</th>\n",
              "      <th>Flares: S</th>\n",
              "      <th>Flares: 1</th>\n",
              "      <th>Flares: 2</th>\n",
              "      <th>Flares: 3</th>\n",
              "    </tr>\n",
              "  </thead>\n",
              "  <tbody>\n",
              "    <tr>\n",
              "      <th>0</th>\n",
              "      <td>1997-01-01</td>\n",
              "      <td>72</td>\n",
              "      <td>0</td>\n",
              "      <td>0</td>\n",
              "      <td>0</td>\n",
              "      <td>*</td>\n",
              "      <td>A0.5</td>\n",
              "      <td>0</td>\n",
              "      <td>0</td>\n",
              "      <td>0</td>\n",
              "      <td>-1</td>\n",
              "      <td>-1</td>\n",
              "      <td>-1</td>\n",
              "      <td>-1</td>\n",
              "    </tr>\n",
              "    <tr>\n",
              "      <th>1</th>\n",
              "      <td>1997-01-02</td>\n",
              "      <td>72</td>\n",
              "      <td>0</td>\n",
              "      <td>0</td>\n",
              "      <td>0</td>\n",
              "      <td>*</td>\n",
              "      <td>A0.5</td>\n",
              "      <td>0</td>\n",
              "      <td>0</td>\n",
              "      <td>0</td>\n",
              "      <td>-1</td>\n",
              "      <td>-1</td>\n",
              "      <td>-1</td>\n",
              "      <td>-1</td>\n",
              "    </tr>\n",
              "    <tr>\n",
              "      <th>2</th>\n",
              "      <td>1997-01-03</td>\n",
              "      <td>73</td>\n",
              "      <td>0</td>\n",
              "      <td>0</td>\n",
              "      <td>0</td>\n",
              "      <td>3</td>\n",
              "      <td>A0.5</td>\n",
              "      <td>0</td>\n",
              "      <td>0</td>\n",
              "      <td>0</td>\n",
              "      <td>-1</td>\n",
              "      <td>-1</td>\n",
              "      <td>-1</td>\n",
              "      <td>-1</td>\n",
              "    </tr>\n",
              "    <tr>\n",
              "      <th>3</th>\n",
              "      <td>1997-01-04</td>\n",
              "      <td>74</td>\n",
              "      <td>13</td>\n",
              "      <td>10</td>\n",
              "      <td>1</td>\n",
              "      <td>*</td>\n",
              "      <td>A0.6</td>\n",
              "      <td>0</td>\n",
              "      <td>0</td>\n",
              "      <td>0</td>\n",
              "      <td>-1</td>\n",
              "      <td>-1</td>\n",
              "      <td>-1</td>\n",
              "      <td>-1</td>\n",
              "    </tr>\n",
              "    <tr>\n",
              "      <th>4</th>\n",
              "      <td>1997-01-05</td>\n",
              "      <td>74</td>\n",
              "      <td>15</td>\n",
              "      <td>20</td>\n",
              "      <td>0</td>\n",
              "      <td>5</td>\n",
              "      <td>A0.7</td>\n",
              "      <td>0</td>\n",
              "      <td>0</td>\n",
              "      <td>0</td>\n",
              "      <td>-1</td>\n",
              "      <td>-1</td>\n",
              "      <td>-1</td>\n",
              "      <td>-1</td>\n",
              "    </tr>\n",
              "  </tbody>\n",
              "</table>\n",
              "</div>\n",
              "    <div class=\"colab-df-buttons\">\n",
              "\n",
              "  <div class=\"colab-df-container\">\n",
              "    <button class=\"colab-df-convert\" onclick=\"convertToInteractive('df-24f75683-87c3-4cc6-af0c-1d5a7f324faf')\"\n",
              "            title=\"Convert this dataframe to an interactive table.\"\n",
              "            style=\"display:none;\">\n",
              "\n",
              "  <svg xmlns=\"http://www.w3.org/2000/svg\" height=\"24px\" viewBox=\"0 -960 960 960\">\n",
              "    <path d=\"M120-120v-720h720v720H120Zm60-500h600v-160H180v160Zm220 220h160v-160H400v160Zm0 220h160v-160H400v160ZM180-400h160v-160H180v160Zm440 0h160v-160H620v160ZM180-180h160v-160H180v160Zm440 0h160v-160H620v160Z\"/>\n",
              "  </svg>\n",
              "    </button>\n",
              "\n",
              "  <style>\n",
              "    .colab-df-container {\n",
              "      display:flex;\n",
              "      gap: 12px;\n",
              "    }\n",
              "\n",
              "    .colab-df-convert {\n",
              "      background-color: #E8F0FE;\n",
              "      border: none;\n",
              "      border-radius: 50%;\n",
              "      cursor: pointer;\n",
              "      display: none;\n",
              "      fill: #1967D2;\n",
              "      height: 32px;\n",
              "      padding: 0 0 0 0;\n",
              "      width: 32px;\n",
              "    }\n",
              "\n",
              "    .colab-df-convert:hover {\n",
              "      background-color: #E2EBFA;\n",
              "      box-shadow: 0px 1px 2px rgba(60, 64, 67, 0.3), 0px 1px 3px 1px rgba(60, 64, 67, 0.15);\n",
              "      fill: #174EA6;\n",
              "    }\n",
              "\n",
              "    .colab-df-buttons div {\n",
              "      margin-bottom: 4px;\n",
              "    }\n",
              "\n",
              "    [theme=dark] .colab-df-convert {\n",
              "      background-color: #3B4455;\n",
              "      fill: #D2E3FC;\n",
              "    }\n",
              "\n",
              "    [theme=dark] .colab-df-convert:hover {\n",
              "      background-color: #434B5C;\n",
              "      box-shadow: 0px 1px 3px 1px rgba(0, 0, 0, 0.15);\n",
              "      filter: drop-shadow(0px 1px 2px rgba(0, 0, 0, 0.3));\n",
              "      fill: #FFFFFF;\n",
              "    }\n",
              "  </style>\n",
              "\n",
              "    <script>\n",
              "      const buttonEl =\n",
              "        document.querySelector('#df-24f75683-87c3-4cc6-af0c-1d5a7f324faf button.colab-df-convert');\n",
              "      buttonEl.style.display =\n",
              "        google.colab.kernel.accessAllowed ? 'block' : 'none';\n",
              "\n",
              "      async function convertToInteractive(key) {\n",
              "        const element = document.querySelector('#df-24f75683-87c3-4cc6-af0c-1d5a7f324faf');\n",
              "        const dataTable =\n",
              "          await google.colab.kernel.invokeFunction('convertToInteractive',\n",
              "                                                    [key], {});\n",
              "        if (!dataTable) return;\n",
              "\n",
              "        const docLinkHtml = 'Like what you see? Visit the ' +\n",
              "          '<a target=\"_blank\" href=https://colab.research.google.com/notebooks/data_table.ipynb>data table notebook</a>'\n",
              "          + ' to learn more about interactive tables.';\n",
              "        element.innerHTML = '';\n",
              "        dataTable['output_type'] = 'display_data';\n",
              "        await google.colab.output.renderOutput(dataTable, element);\n",
              "        const docLink = document.createElement('div');\n",
              "        docLink.innerHTML = docLinkHtml;\n",
              "        element.appendChild(docLink);\n",
              "      }\n",
              "    </script>\n",
              "  </div>\n",
              "\n",
              "\n",
              "<div id=\"df-cd70d5ce-92ce-4ec8-9497-27e3121347f8\">\n",
              "  <button class=\"colab-df-quickchart\" onclick=\"quickchart('df-cd70d5ce-92ce-4ec8-9497-27e3121347f8')\"\n",
              "            title=\"Suggest charts\"\n",
              "            style=\"display:none;\">\n",
              "\n",
              "<svg xmlns=\"http://www.w3.org/2000/svg\" height=\"24px\"viewBox=\"0 0 24 24\"\n",
              "     width=\"24px\">\n",
              "    <g>\n",
              "        <path d=\"M19 3H5c-1.1 0-2 .9-2 2v14c0 1.1.9 2 2 2h14c1.1 0 2-.9 2-2V5c0-1.1-.9-2-2-2zM9 17H7v-7h2v7zm4 0h-2V7h2v10zm4 0h-2v-4h2v4z\"/>\n",
              "    </g>\n",
              "</svg>\n",
              "  </button>\n",
              "\n",
              "<style>\n",
              "  .colab-df-quickchart {\n",
              "      --bg-color: #E8F0FE;\n",
              "      --fill-color: #1967D2;\n",
              "      --hover-bg-color: #E2EBFA;\n",
              "      --hover-fill-color: #174EA6;\n",
              "      --disabled-fill-color: #AAA;\n",
              "      --disabled-bg-color: #DDD;\n",
              "  }\n",
              "\n",
              "  [theme=dark] .colab-df-quickchart {\n",
              "      --bg-color: #3B4455;\n",
              "      --fill-color: #D2E3FC;\n",
              "      --hover-bg-color: #434B5C;\n",
              "      --hover-fill-color: #FFFFFF;\n",
              "      --disabled-bg-color: #3B4455;\n",
              "      --disabled-fill-color: #666;\n",
              "  }\n",
              "\n",
              "  .colab-df-quickchart {\n",
              "    background-color: var(--bg-color);\n",
              "    border: none;\n",
              "    border-radius: 50%;\n",
              "    cursor: pointer;\n",
              "    display: none;\n",
              "    fill: var(--fill-color);\n",
              "    height: 32px;\n",
              "    padding: 0;\n",
              "    width: 32px;\n",
              "  }\n",
              "\n",
              "  .colab-df-quickchart:hover {\n",
              "    background-color: var(--hover-bg-color);\n",
              "    box-shadow: 0 1px 2px rgba(60, 64, 67, 0.3), 0 1px 3px 1px rgba(60, 64, 67, 0.15);\n",
              "    fill: var(--button-hover-fill-color);\n",
              "  }\n",
              "\n",
              "  .colab-df-quickchart-complete:disabled,\n",
              "  .colab-df-quickchart-complete:disabled:hover {\n",
              "    background-color: var(--disabled-bg-color);\n",
              "    fill: var(--disabled-fill-color);\n",
              "    box-shadow: none;\n",
              "  }\n",
              "\n",
              "  .colab-df-spinner {\n",
              "    border: 2px solid var(--fill-color);\n",
              "    border-color: transparent;\n",
              "    border-bottom-color: var(--fill-color);\n",
              "    animation:\n",
              "      spin 1s steps(1) infinite;\n",
              "  }\n",
              "\n",
              "  @keyframes spin {\n",
              "    0% {\n",
              "      border-color: transparent;\n",
              "      border-bottom-color: var(--fill-color);\n",
              "      border-left-color: var(--fill-color);\n",
              "    }\n",
              "    20% {\n",
              "      border-color: transparent;\n",
              "      border-left-color: var(--fill-color);\n",
              "      border-top-color: var(--fill-color);\n",
              "    }\n",
              "    30% {\n",
              "      border-color: transparent;\n",
              "      border-left-color: var(--fill-color);\n",
              "      border-top-color: var(--fill-color);\n",
              "      border-right-color: var(--fill-color);\n",
              "    }\n",
              "    40% {\n",
              "      border-color: transparent;\n",
              "      border-right-color: var(--fill-color);\n",
              "      border-top-color: var(--fill-color);\n",
              "    }\n",
              "    60% {\n",
              "      border-color: transparent;\n",
              "      border-right-color: var(--fill-color);\n",
              "    }\n",
              "    80% {\n",
              "      border-color: transparent;\n",
              "      border-right-color: var(--fill-color);\n",
              "      border-bottom-color: var(--fill-color);\n",
              "    }\n",
              "    90% {\n",
              "      border-color: transparent;\n",
              "      border-bottom-color: var(--fill-color);\n",
              "    }\n",
              "  }\n",
              "</style>\n",
              "\n",
              "  <script>\n",
              "    async function quickchart(key) {\n",
              "      const quickchartButtonEl =\n",
              "        document.querySelector('#' + key + ' button');\n",
              "      quickchartButtonEl.disabled = true;  // To prevent multiple clicks.\n",
              "      quickchartButtonEl.classList.add('colab-df-spinner');\n",
              "      try {\n",
              "        const charts = await google.colab.kernel.invokeFunction(\n",
              "            'suggestCharts', [key], {});\n",
              "      } catch (error) {\n",
              "        console.error('Error during call to suggestCharts:', error);\n",
              "      }\n",
              "      quickchartButtonEl.classList.remove('colab-df-spinner');\n",
              "      quickchartButtonEl.classList.add('colab-df-quickchart-complete');\n",
              "    }\n",
              "    (() => {\n",
              "      let quickchartButtonEl =\n",
              "        document.querySelector('#df-cd70d5ce-92ce-4ec8-9497-27e3121347f8 button');\n",
              "      quickchartButtonEl.style.display =\n",
              "        google.colab.kernel.accessAllowed ? 'block' : 'none';\n",
              "    })();\n",
              "  </script>\n",
              "</div>\n",
              "\n",
              "    </div>\n",
              "  </div>\n"
            ],
            "text/plain": [
              "         Date  Radio Flux 10.7cm  Sunspot Number  Sunspot Area (10^6 Hemis.)  \\\n",
              "0  1997-01-01                 72               0                           0   \n",
              "1  1997-01-02                 72               0                           0   \n",
              "2  1997-01-03                 73               0                           0   \n",
              "3  1997-01-04                 74              13                          10   \n",
              "4  1997-01-05                 74              15                          20   \n",
              "\n",
              "   New Regions Stanford Mean Solar Field (GOES15)  \\\n",
              "0            0                                  *   \n",
              "1            0                                  *   \n",
              "2            0                                  3   \n",
              "3            1                                  *   \n",
              "4            0                                  5   \n",
              "\n",
              "  Stanford Background X-Ray Flux  Flares: C  Flares: M  Flares: X  Flares: S  \\\n",
              "0                           A0.5          0          0          0         -1   \n",
              "1                           A0.5          0          0          0         -1   \n",
              "2                           A0.5          0          0          0         -1   \n",
              "3                           A0.6          0          0          0         -1   \n",
              "4                           A0.7          0          0          0         -1   \n",
              "\n",
              "   Flares: 1  Flares: 2  Flares: 3  \n",
              "0         -1         -1         -1  \n",
              "1         -1         -1         -1  \n",
              "2         -1         -1         -1  \n",
              "3         -1         -1         -1  \n",
              "4         -1         -1         -1  "
            ]
          },
          "execution_count": 6,
          "metadata": {},
          "output_type": "execute_result"
        }
      ],
      "source": [
        "df = pd.read_csv(file_path)\n",
        "df.head()"
      ]
    },
    {
      "cell_type": "code",
      "execution_count": null,
      "metadata": {
        "colab": {
          "base_uri": "https://localhost:8080/"
        },
        "id": "OW_Lcdp9iPVH",
        "outputId": "cc918b80-193b-44de-8740-4ee78a28962e"
      },
      "outputs": [
        {
          "name": "stdout",
          "output_type": "stream",
          "text": [
            "<class 'pandas.core.frame.DataFrame'>\n",
            "RangeIndex: 10330 entries, 0 to 10329\n",
            "Data columns (total 14 columns):\n",
            " #   Column                              Non-Null Count  Dtype \n",
            "---  ------                              --------------  ----- \n",
            " 0   Date                                10330 non-null  object\n",
            " 1   Radio Flux 10.7cm                   10330 non-null  int64 \n",
            " 2   Sunspot Number                      10330 non-null  int64 \n",
            " 3   Sunspot Area (10^6 Hemis.)          10330 non-null  int64 \n",
            " 4   New Regions                         10330 non-null  int64 \n",
            " 5   Stanford Mean Solar Field (GOES15)  10330 non-null  object\n",
            " 6   Stanford Background X-Ray Flux      10330 non-null  object\n",
            " 7   Flares: C                           10330 non-null  int64 \n",
            " 8   Flares: M                           10330 non-null  int64 \n",
            " 9   Flares: X                           10330 non-null  int64 \n",
            " 10  Flares: S                           10330 non-null  int64 \n",
            " 11  Flares: 1                           10330 non-null  int64 \n",
            " 12  Flares: 2                           10330 non-null  int64 \n",
            " 13  Flares: 3                           10330 non-null  int64 \n",
            "dtypes: int64(11), object(3)\n",
            "memory usage: 1.1+ MB\n"
          ]
        }
      ],
      "source": [
        "df.dropna(inplace=True)\n",
        "df.info()"
      ]
    },
    {
      "cell_type": "code",
      "execution_count": null,
      "metadata": {
        "colab": {
          "base_uri": "https://localhost:8080/"
        },
        "id": "Q1OBxqE9ikSy",
        "outputId": "cb380154-c706-4929-d06b-b07788158c83"
      },
      "outputs": [
        {
          "name": "stdout",
          "output_type": "stream",
          "text": [
            "<class 'pandas.core.frame.DataFrame'>\n",
            "DatetimeIndex: 10330 entries, 1997-01-01 to 2024-04-12\n",
            "Data columns (total 13 columns):\n",
            " #   Column                              Non-Null Count  Dtype \n",
            "---  ------                              --------------  ----- \n",
            " 0   Radio Flux 10.7cm                   10330 non-null  int64 \n",
            " 1   Sunspot Number                      10330 non-null  int64 \n",
            " 2   Sunspot Area (10^6 Hemis.)          10330 non-null  int64 \n",
            " 3   New Regions                         10330 non-null  int64 \n",
            " 4   Stanford Mean Solar Field (GOES15)  10330 non-null  object\n",
            " 5   Stanford Background X-Ray Flux      10330 non-null  object\n",
            " 6   Flares: C                           10330 non-null  int64 \n",
            " 7   Flares: M                           10330 non-null  int64 \n",
            " 8   Flares: X                           10330 non-null  int64 \n",
            " 9   Flares: S                           10330 non-null  int64 \n",
            " 10  Flares: 1                           10330 non-null  int64 \n",
            " 11  Flares: 2                           10330 non-null  int64 \n",
            " 12  Flares: 3                           10330 non-null  int64 \n",
            "dtypes: int64(11), object(2)\n",
            "memory usage: 1.1+ MB\n"
          ]
        }
      ],
      "source": [
        "df['Date'] = pd.to_datetime(df['Date'])\n",
        "df.set_index('Date', inplace=True)\n",
        "df.info()\n"
      ]
    },
    {
      "cell_type": "code",
      "execution_count": null,
      "metadata": {
        "colab": {
          "base_uri": "https://localhost:8080/",
          "height": 581
        },
        "id": "X42PpStejwd-",
        "outputId": "a0d4b9a4-6df9-4c53-dc69-5dfc43adc0bd"
      },
      "outputs": [
        {
          "data": {
            "text/plain": [
              "<matplotlib.legend.Legend at 0x7abbd6798250>"
            ]
          },
          "execution_count": 9,
          "metadata": {},
          "output_type": "execute_result"
        },
        {
          "data": {
            "image/png": "[encoded data removed]",
            "text/plain": [
              "<Figure size 1200x600 with 1 Axes>"
            ]
          },
          "metadata": {},
          "output_type": "display_data"
        }
      ],
      "source": [
        "# Set a beautiful style using seaborn\n",
        "sns.set_theme(style=\"darkgrid\")\n",
        "plt.figure(figsize=(12, 6))\n",
        "plt.style.use('seaborn-v0_8-whitegrid') # Another elegant style\n",
        "\n",
        "# Create the line plot with enhanced aesthetics\n",
        "plt.plot(df.index,'Radio Flux 10.7cm',data=df, color=\"#6495ED\", linewidth=1.5, ) # Cornflower blue\n",
        "#plt.plot('time-tag','smoothed_f10.7',data=df1, color=\"#FF6866\", linewidth=1.5) # Light blue\n",
        "# Add a subtle gradient fill under the curve\n",
        "#plt.fill_between(years, sunspot_numbers, alpha=0.2, color=\"#ADD8E6\") # Light blue\n",
        "\n",
        "# Customize the plot elements\n",
        "plt.xlabel(\"Year\", fontsize=14)\n",
        "plt.ylabel(\"F10.7 \", fontsize=14)\n",
        "plt.title(\"F10.7 Solar Radio Flux\", fontsize=16)\n",
        "plt.grid(True, linestyle='--', alpha=0.7)\n",
        "plt.legend(fontsize=12)"
      ]
    },
    {
      "cell_type": "code",
      "execution_count": null,
      "metadata": {
        "colab": {
          "base_uri": "https://localhost:8080/",
          "height": 489
        },
        "id": "0sG_3FWekYZO",
        "outputId": "08155e5a-5208-4ce4-95b3-7cfcd888d8ff"
      },
      "outputs": [
        {
          "data": {
            "text/html": [
              "<div>\n",
              "<style scoped>\n",
              "    .dataframe tbody tr th:only-of-type {\n",
              "        vertical-align: middle;\n",
              "    }\n",
              "\n",
              "    .dataframe tbody tr th {\n",
              "        vertical-align: top;\n",
              "    }\n",
              "\n",
              "    .dataframe thead th {\n",
              "        text-align: right;\n",
              "    }\n",
              "</style>\n",
              "<table border=\"1\" class=\"dataframe\">\n",
              "  <thead>\n",
              "    <tr style=\"text-align: right;\">\n",
              "      <th></th>\n",
              "      <th>Radio Flux 10.7cm</th>\n",
              "    </tr>\n",
              "    <tr>\n",
              "      <th>Date</th>\n",
              "      <th></th>\n",
              "    </tr>\n",
              "  </thead>\n",
              "  <tbody>\n",
              "    <tr>\n",
              "      <th>1997-01-01</th>\n",
              "      <td>72</td>\n",
              "    </tr>\n",
              "    <tr>\n",
              "      <th>1997-01-02</th>\n",
              "      <td>72</td>\n",
              "    </tr>\n",
              "    <tr>\n",
              "      <th>1997-01-03</th>\n",
              "      <td>73</td>\n",
              "    </tr>\n",
              "    <tr>\n",
              "      <th>1997-01-04</th>\n",
              "      <td>74</td>\n",
              "    </tr>\n",
              "    <tr>\n",
              "      <th>1997-01-05</th>\n",
              "      <td>74</td>\n",
              "    </tr>\n",
              "    <tr>\n",
              "      <th>...</th>\n",
              "      <td>...</td>\n",
              "    </tr>\n",
              "    <tr>\n",
              "      <th>2024-04-08</th>\n",
              "      <td>125</td>\n",
              "    </tr>\n",
              "    <tr>\n",
              "      <th>2024-04-09</th>\n",
              "      <td>124</td>\n",
              "    </tr>\n",
              "    <tr>\n",
              "      <th>2024-04-10</th>\n",
              "      <td>131</td>\n",
              "    </tr>\n",
              "    <tr>\n",
              "      <th>2024-04-11</th>\n",
              "      <td>144</td>\n",
              "    </tr>\n",
              "    <tr>\n",
              "      <th>2024-04-12</th>\n",
              "      <td>152</td>\n",
              "    </tr>\n",
              "  </tbody>\n",
              "</table>\n",
              "<p>10330 rows × 1 columns</p>\n",
              "</div><br><label><b>dtype:</b> int64</label>"
            ],
            "text/plain": [
              "Date\n",
              "1997-01-01     72\n",
              "1997-01-02     72\n",
              "1997-01-03     73\n",
              "1997-01-04     74\n",
              "1997-01-05     74\n",
              "             ... \n",
              "2024-04-08    125\n",
              "2024-04-09    124\n",
              "2024-04-10    131\n",
              "2024-04-11    144\n",
              "2024-04-12    152\n",
              "Name: Radio Flux 10.7cm, Length: 10330, dtype: int64"
            ]
          },
          "execution_count": 10,
          "metadata": {},
          "output_type": "execute_result"
        }
      ],
      "source": [
        "# Select the f10.7 time series\n",
        "f10 = df['Radio Flux 10.7cm'].dropna()\n",
        "f10"
      ]
    },
    {
      "cell_type": "code",
      "execution_count": null,
      "metadata": {
        "id": "nWjHX87DlFqM"
      },
      "outputs": [],
      "source": [
        "from statsmodels.tsa.statespace.sarimax import SARIMAX"
      ]
    },
    {
      "cell_type": "code",
      "execution_count": null,
      "metadata": {
        "colab": {
          "background_save": true,
          "base_uri": "https://localhost:8080/"
        },
        "id": "7NuRskqWki2Y",
        "outputId": "5971f9d6-9093-41b1-edc7-57cd2b689a9c"
      },
      "outputs": [
        {
          "name": "stderr",
          "output_type": "stream",
          "text": [
            "/usr/local/lib/python3.11/dist-packages/statsmodels/tsa/base/tsa_model.py:473: ValueWarning: A date index has been provided, but it has no associated frequency information and so will be ignored when e.g. forecasting.\n",
            "  self._init_dates(dates, freq)\n",
            "/usr/local/lib/python3.11/dist-packages/statsmodels/tsa/base/tsa_model.py:473: ValueWarning: A date index has been provided, but it is not monotonic and so will be ignored when e.g. forecasting.\n",
            "  self._init_dates(dates, freq)\n",
            "/usr/local/lib/python3.11/dist-packages/statsmodels/tsa/base/tsa_model.py:473: ValueWarning: A date index has been provided, but it has no associated frequency information and so will be ignored when e.g. forecasting.\n",
            "  self._init_dates(dates, freq)\n",
            "/usr/local/lib/python3.11/dist-packages/statsmodels/tsa/base/tsa_model.py:473: ValueWarning: A date index has been provided, but it is not monotonic and so will be ignored when e.g. forecasting.\n",
            "  self._init_dates(dates, freq)\n"
          ]
        }
      ],
      "source": [
        "# ----------- Fit SARIMA model ------------\n",
        "# Set SARIMA parameters (these are example values; tuning improves accuracy)\n",
        "model = SARIMAX(f10,\n",
        "                order=(1,1,1),\n",
        "                seasonal_order=(1,1,1,12*11))\n",
        "\n",
        "results = model.fit()"
      ]
    },
    {
      "cell_type": "code",
      "execution_count": null,
      "metadata": {
        "id": "zYAx_tErmlzN"
      },
      "outputs": [],
      "source": [
        "# ----------- Forecast for 15 years (180 months) ------------\n",
        "forecast_steps = 180\n",
        "forecast = results.get_forecast(steps=forecast_steps)\n",
        "predicted_values = forecast.predicted_mean\n",
        "conf_int = forecast.conf_int()\n",
        "\n",
        "# Generate future date index\n",
        "forecast_index = pd.date_range(start=f10.index[-1] + pd.DateOffset(months=1),\n",
        "                               periods=forecast_steps, freq='MS')\n",
        "predicted_values.index = forecast_index\n",
        "conf_int.index = forecast_index\n",
        "\n",
        "# ----------- Create a forecast DataFrame ------------\n",
        "forecast_df = pd.DataFrame({\n",
        "    'Date': forecast_index,\n",
        "    'f10.7_predicted': predicted_values,\n",
        "    'Lower_CI': conf_int.iloc[:, 0],\n",
        "    'Upper_CI': conf_int.iloc[:, 1]\n",
        "}).reset_index(drop=True)"
      ]
    },
    {
      "cell_type": "code",
      "execution_count": null,
      "metadata": {
        "id": "veZbNofqm7IP"
      },
      "outputs": [],
      "source": [
        "# ----------- Plot forecast ------------\n",
        "plt.figure(figsize=(14, 6))\n",
        "plt.plot(f10, label='Observed', color='blue')\n",
        "plt.plot(forecast_index, predicted_values, label='Forecast', color='red')\n",
        "plt.fill_between(forecast_index,\n",
        "                 conf_int.iloc[:, 0],\n",
        "                 conf_int.iloc[:, 1],\n",
        "                 color='pink', alpha=0.3)\n",
        "plt.title('SARIMA Forecast of Solar Radio Flux (f10.7) for Next 15 Years')\n",
        "plt.xlabel('Date')\n",
        "plt.ylabel('f10.7 (sfu)')\n",
        "plt.legend()\n",
        "plt.tight_layout()\n",
        "plt.show()"
      ]
    }
  ],
  "metadata": {
    "accelerator": "GPU",
    "colab": {
      "gpuType": "T4",
      "provenance": []
    },
    "kernelspec": {
      "display_name": "Python 3",
      "name": "python3"
    },
    "language_info": {
      "name": "python"
    }
  },
  "nbformat": 4,
  "nbformat_minor": 0
}